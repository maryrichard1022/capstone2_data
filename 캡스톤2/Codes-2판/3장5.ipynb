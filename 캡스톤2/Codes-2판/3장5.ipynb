{
 "cells": [
  {
   "cell_type": "code",
   "execution_count": 2,
   "metadata": {},
   "outputs": [],
   "source": [
    "# Created or modified on May 2022\n",
    "# Author: 임일\n",
    "# 협업필터링(CF) 추천 - Item-based CF\n",
    "\n",
    "import numpy as np\n",
    "import pandas as pd\n",
    "\n",
    "# 데이터 읽어 오기 \n",
    "u_cols = ['user_id', 'age', 'sex', 'occupation', 'zip_code']\n",
    "users = pd.read_csv('C:/RecoSys/Data/u.user', sep='|', names=u_cols, encoding='latin-1')\n",
    "i_cols = ['movie_id', 'title', 'release date', 'video release date', 'IMDB URL', 'unknown', \n",
    "          'Action', 'Adventure', 'Animation', 'Children\\'s', 'Comedy', 'Crime', 'Documentary', \n",
    "          'Drama', 'Fantasy', 'Film-Noir', 'Horror', 'Musical', 'Mystery', 'Romance', 'Sci-Fi', \n",
    "          'Thriller', 'War', 'Western']\n",
    "movies = pd.read_csv('C:/RecoSys/Data/u.item', sep='|', names=i_cols, encoding='latin-1')\n",
    "r_cols = ['user_id', 'movie_id', 'rating', 'timestamp']\n",
    "ratings = pd.read_csv('C:/RecoSys/Data/u.data', sep='\\t', names=r_cols, encoding='latin-1')\n",
    "\n",
    "# timestamp 제거 \n",
    "ratings = ratings.drop('timestamp', axis=1)\n",
    "# movie ID와 title 빼고 다른 데이터 제거\n",
    "movies = movies[['movie_id', 'title']]\n",
    "\n",
    "# train, test 데이터 분리\n",
    "from sklearn.model_selection import train_test_split\n",
    "x = ratings.copy()\n",
    "y = ratings['user_id']\n",
    "x_train, x_test, y_train, y_test = train_test_split(x, y, test_size=0.25, stratify=y)\n",
    "\n",
    "# 정확도(RMSE)를 계산하는 함수 \n",
    "def RMSE(y_true, y_pred):\n",
    "    return np.sqrt(np.mean((np.array(y_true) - np.array(y_pred))**2))\n",
    "\n",
    "# 모델별 RMSE를 계산하는 함수 \n",
    "def score(model):\n",
    "    id_pairs = zip(x_test['user_id'], x_test['movie_id'])\n",
    "    y_pred = np.array([model(user, movie) for (user, movie) in id_pairs])\n",
    "    y_true = np.array(x_test['rating'])\n",
    "    return RMSE(y_true, y_pred)\n",
    "\n",
    "# train 데이터로 Full matrix 구하기  \n",
    "rating_matrix = x_train.pivot(index='user_id', columns='movie_id', values='rating')\n"
   ]
  },
  {
   "cell_type": "markdown",
   "metadata": {},
   "source": []
  },
  {
   "cell_type": "code",
   "execution_count": 3,
   "metadata": {},
   "outputs": [
    {
     "data": {
      "text/plain": [
       "1.0111605152820724"
      ]
     },
     "execution_count": 3,
     "metadata": {},
     "output_type": "execute_result"
    }
   ],
   "source": [
    "##### (1)\n",
    "\n",
    "# 코사인 유사도 계산을 위한 라이브러리\n",
    "from sklearn.metrics.pairwise import cosine_similarity\n",
    "\n",
    "# 아이템 간의 유사도 계산 위해 사용했던 rating_matrix를 전치\n",
    "rating_matrix_t = np.transpose(rating_matrix)\n",
    "\n",
    "# 원래 데이터 복사하면서 NaN값을 0으로 바꿈\n",
    "matrix_dummy = rating_matrix_t.copy().fillna(0)\n",
    "\n",
    "# 아이템 간의 코사인 유사도를 저장함 (1644 x 1644)\n",
    "item_similarity = cosine_similarity(matrix_dummy, matrix_dummy)\n",
    "\n",
    "# 아이템 유사도를 편하게 계산하기 위해 DF로 바꿈\n",
    "item_similarity = pd.DataFrame(item_similarity, index=rating_matrix_t.index, columns=rating_matrix_t.index)\n",
    "\n",
    "# 주어진 영화의 (movie_id) 가중평균 rating을 계산하는 함수, \n",
    "# 가중치는 주어진 아이템과 다른 아이템 간의 유사도(item_similarity)\n",
    "\n",
    "# user_id와 movie_id를 받아서 해당 사용자의 해당 영화에 대한 예측치를 계산\n",
    "def CF_IBCF(user_id, movie_id):\n",
    "\n",
    "    if movie_id in item_similarity:      # 현재 영화가 train set에 있는지 확인\n",
    "\n",
    "        # 현재 영화와 다른 영화의 similarity 값 가져오기\n",
    "        sim_scores = item_similarity[movie_id]\n",
    "\n",
    "        # 현 사용자의 모든 rating 값 가져오기\n",
    "        user_rating = rating_matrix_t[user_id]\n",
    "\n",
    "        # 사용자가 평가하지 않은 영화 index 가져오기\n",
    "        non_rating_idx = user_rating[user_rating.isnull()].index\n",
    "\n",
    "        # 사용자가 평가하지 않은 영화 제거\n",
    "        user_rating = user_rating.dropna()\n",
    "\n",
    "        # 사용자가 평가하지 않은 영화의 similarity 값 제거\n",
    "        sim_scores = sim_scores.drop(non_rating_idx)\n",
    "\n",
    "        # 현 영화에 대한 예상 rating 계산, 가중치는 현 영화와 사용자가 평가한 영화의 유사도\n",
    "        mean_rating = np.dot(sim_scores, user_rating) / sim_scores.sum()\n",
    "\t\t\n",
    "\t\t # train set에 존재하지 않는 영화에 대해서는 기본값 3.0으로 함\n",
    "    else:\n",
    "        mean_rating = 3.0\n",
    "    return mean_rating\n",
    "\n",
    "# 정확도 계산\n",
    "score(CF_IBCF)"
   ]
  },
  {
   "cell_type": "code",
   "execution_count": null,
   "metadata": {},
   "outputs": [],
   "source": []
  }
 ],
 "metadata": {
  "kernelspec": {
   "display_name": "base",
   "language": "python",
   "name": "python3"
  },
  "language_info": {
   "codemirror_mode": {
    "name": "ipython",
    "version": 3
   },
   "file_extension": ".py",
   "mimetype": "text/x-python",
   "name": "python",
   "nbconvert_exporter": "python",
   "pygments_lexer": "ipython3",
   "version": "3.10.9"
  }
 },
 "nbformat": 4,
 "nbformat_minor": 2
}
