{
 "cells": [
  {
   "cell_type": "code",
   "execution_count": 153,
   "metadata": {},
   "outputs": [],
   "source": [
    "import pandas as pd\n",
    "import numpy as np"
   ]
  },
  {
   "cell_type": "code",
   "execution_count": 154,
   "metadata": {},
   "outputs": [
    {
     "name": "stdout",
     "output_type": "stream",
     "text": [
      "Detected encoding: EUC-KR\n"
     ]
    }
   ],
   "source": [
    "# 인코딩 방식 확인\n",
    "import chardet\n",
    "with open(\"서울시 생활체육 지오코딩_완료3.csv\", 'rb') as f:\n",
    "    result = chardet.detect(f.read())\n",
    "\n",
    "print(\"Detected encoding:\", result['encoding'])"
   ]
  },
  {
   "cell_type": "code",
   "execution_count": 155,
   "metadata": {},
   "outputs": [
    {
     "data": {
      "text/html": [
       "<div>\n",
       "<style scoped>\n",
       "    .dataframe tbody tr th:only-of-type {\n",
       "        vertical-align: middle;\n",
       "    }\n",
       "\n",
       "    .dataframe tbody tr th {\n",
       "        vertical-align: top;\n",
       "    }\n",
       "\n",
       "    .dataframe thead th {\n",
       "        text-align: right;\n",
       "    }\n",
       "</style>\n",
       "<table border=\"1\" class=\"dataframe\">\n",
       "  <thead>\n",
       "    <tr style=\"text-align: right;\">\n",
       "      <th></th>\n",
       "      <th>category_id</th>\n",
       "      <th>name</th>\n",
       "      <th>district</th>\n",
       "      <th>address</th>\n",
       "      <th>latitude</th>\n",
       "      <th>longitude</th>\n",
       "      <th>work_time</th>\n",
       "      <th>price</th>\n",
       "      <th>phone_number</th>\n",
       "      <th>image_url</th>\n",
       "      <th>page_url</th>\n",
       "      <th>description</th>\n",
       "      <th>장소</th>\n",
       "      <th>참가규모(명)</th>\n",
       "      <th>수혜기관명</th>\n",
       "      <th>기관 홈페이지</th>\n",
       "    </tr>\n",
       "  </thead>\n",
       "  <tbody>\n",
       "    <tr>\n",
       "      <th>0</th>\n",
       "      <td>NaN</td>\n",
       "      <td>축구(송파여성축구장)</td>\n",
       "      <td>송파</td>\n",
       "      <td>서울특별시 송파구 방이동88</td>\n",
       "      <td>37.521031</td>\n",
       "      <td>127.116165</td>\n",
       "      <td>월, 금 10:00~12:00</td>\n",
       "      <td>지자체에 문의</td>\n",
       "      <td>NaN</td>\n",
       "      <td>NaN</td>\n",
       "      <td>NaN</td>\n",
       "      <td>축구</td>\n",
       "      <td>송파여성축구장</td>\n",
       "      <td>30명</td>\n",
       "      <td>송파구여성동호인</td>\n",
       "      <td>NaN</td>\n",
       "    </tr>\n",
       "    <tr>\n",
       "      <th>1</th>\n",
       "      <td>NaN</td>\n",
       "      <td>특수체육(하상장애인복지관)</td>\n",
       "      <td>강남</td>\n",
       "      <td>서울특별시 강남구 개포로613</td>\n",
       "      <td>37.492554</td>\n",
       "      <td>127.075132</td>\n",
       "      <td>화 15:30~16:20/16:20~17:00</td>\n",
       "      <td>지자체에 문의</td>\n",
       "      <td>02-451-6000</td>\n",
       "      <td>NaN</td>\n",
       "      <td>NaN</td>\n",
       "      <td>특수체육</td>\n",
       "      <td>하상장애인복지관</td>\n",
       "      <td>8</td>\n",
       "      <td>하상장애인복지관</td>\n",
       "      <td>http://www.hasang.org/main/main.php</td>\n",
       "    </tr>\n",
       "    <tr>\n",
       "      <th>2</th>\n",
       "      <td>NaN</td>\n",
       "      <td>각 종 뉴스포츠(비상청소년사회복귀시설)</td>\n",
       "      <td>관악</td>\n",
       "      <td>서울특별시 관악구 남부순환로 2054</td>\n",
       "      <td>37.476337</td>\n",
       "      <td>126.976925</td>\n",
       "      <td>화 13:30~14:10, 화 14:10~14:50</td>\n",
       "      <td>지자체에 문의</td>\n",
       "      <td>070-4200-4401</td>\n",
       "      <td>NaN</td>\n",
       "      <td>NaN</td>\n",
       "      <td>각 종 뉴스포츠</td>\n",
       "      <td>비상청소년사회복귀시설</td>\n",
       "      <td>20명</td>\n",
       "      <td>비상청소년사회복귀시설</td>\n",
       "      <td>http://www.visang.or.kr/</td>\n",
       "    </tr>\n",
       "    <tr>\n",
       "      <th>3</th>\n",
       "      <td>NaN</td>\n",
       "      <td>기초체력(노들나루공원)</td>\n",
       "      <td>동작</td>\n",
       "      <td>서울특별시 동작구 노량진로 247</td>\n",
       "      <td>37.514531</td>\n",
       "      <td>126.952430</td>\n",
       "      <td>화 10:00~11:00</td>\n",
       "      <td>지자체에 문의</td>\n",
       "      <td>02-820-9435</td>\n",
       "      <td>NaN</td>\n",
       "      <td>NaN</td>\n",
       "      <td>기초체력</td>\n",
       "      <td>노들나루공원</td>\n",
       "      <td>30명</td>\n",
       "      <td>노들나루공원</td>\n",
       "      <td>www.dongjak.go.kr/healthcare/main/main.do</td>\n",
       "    </tr>\n",
       "    <tr>\n",
       "      <th>4</th>\n",
       "      <td>NaN</td>\n",
       "      <td>생활체조(사당분소)</td>\n",
       "      <td>동작</td>\n",
       "      <td>서울특별시 동작구 사당로 253-3</td>\n",
       "      <td>37.483674</td>\n",
       "      <td>126.975871</td>\n",
       "      <td>금 13:40~14:20</td>\n",
       "      <td>지자체에 문의</td>\n",
       "      <td>02-820-9644</td>\n",
       "      <td>NaN</td>\n",
       "      <td>NaN</td>\n",
       "      <td>생활체조</td>\n",
       "      <td>사당분소</td>\n",
       "      <td>20명</td>\n",
       "      <td>동작구보건소 사당분소</td>\n",
       "      <td>NaN</td>\n",
       "    </tr>\n",
       "  </tbody>\n",
       "</table>\n",
       "</div>"
      ],
      "text/plain": [
       "   category_id                   name district               address  \\\n",
       "0          NaN            축구(송파여성축구장)       송파       서울특별시 송파구 방이동88   \n",
       "1          NaN         특수체육(하상장애인복지관)       강남      서울특별시 강남구 개포로613   \n",
       "2          NaN  각 종 뉴스포츠(비상청소년사회복귀시설)       관악  서울특별시 관악구 남부순환로 2054   \n",
       "3          NaN           기초체력(노들나루공원)       동작    서울특별시 동작구 노량진로 247   \n",
       "4          NaN             생활체조(사당분소)       동작   서울특별시 동작구 사당로 253-3   \n",
       "\n",
       "    latitude   longitude                     work_time    price  \\\n",
       "0  37.521031  127.116165              월, 금 10:00~12:00  지자체에 문의   \n",
       "1  37.492554  127.075132     화 15:30~16:20/16:20~17:00  지자체에 문의   \n",
       "2  37.476337  126.976925  화 13:30~14:10, 화 14:10~14:50  지자체에 문의   \n",
       "3  37.514531  126.952430                 화 10:00~11:00  지자체에 문의   \n",
       "4  37.483674  126.975871                 금 13:40~14:20  지자체에 문의   \n",
       "\n",
       "    phone_number  image_url  page_url description           장소 참가규모(명)  \\\n",
       "0            NaN        NaN       NaN          축구      송파여성축구장     30명   \n",
       "1    02-451-6000        NaN       NaN        특수체육     하상장애인복지관       8   \n",
       "2  070-4200-4401        NaN       NaN    각 종 뉴스포츠  비상청소년사회복귀시설     20명   \n",
       "3    02-820-9435        NaN       NaN        기초체력       노들나루공원     30명   \n",
       "4    02-820-9644        NaN       NaN        생활체조         사당분소     20명   \n",
       "\n",
       "         수혜기관명                                    기관 홈페이지  \n",
       "0     송파구여성동호인                                        NaN  \n",
       "1     하상장애인복지관        http://www.hasang.org/main/main.php  \n",
       "2  비상청소년사회복귀시설                   http://www.visang.or.kr/  \n",
       "3       노들나루공원  www.dongjak.go.kr/healthcare/main/main.do  \n",
       "4  동작구보건소 사당분소                                        NaN  "
      ]
     },
     "execution_count": 155,
     "metadata": {},
     "output_type": "execute_result"
    }
   ],
   "source": [
    "df = pd.read_csv(\"서울시 생활체육 지오코딩_완료3.csv\", encoding='CP949')\n",
    "df.head()"
   ]
  },
  {
   "cell_type": "code",
   "execution_count": 156,
   "metadata": {},
   "outputs": [],
   "source": [
    "# 이름이랑 운영시간 아예 똑같으면 일치하는 행이므로 없애기\n",
    "df = df.drop_duplicates(subset=['name', 'work_time'], keep='first')"
   ]
  },
  {
   "cell_type": "code",
   "execution_count": 157,
   "metadata": {},
   "outputs": [
    {
     "data": {
      "text/plain": [
       "0                                       월, 금 10:00~12:00\n",
       "1                              화 15:30~16:20/16:20~17:00\n",
       "2                           화 13:30~14:10, 화 14:10~14:50\n",
       "3                                          화 10:00~11:00\n",
       "4                           금 13:40~14:20/ 금 13:00~13:40\n",
       "                             ...                        \n",
       "277    금 09:30 ~ 12:00/ 수 09:30 ~ 12:00/ 월 09:30 ~ 12:00\n",
       "278                                      화 09:30 ~ 12:00\n",
       "279    금 09:30 ~ 12:00/ 수 09:30 ~ 12:00/ 월 09:30 ~ 12:00\n",
       "280                                        수 15:00~15:40\n",
       "285                                         월16:00~16:40\n",
       "Name: merged_work, Length: 241, dtype: object"
      ]
     },
     "execution_count": 157,
     "metadata": {},
     "output_type": "execute_result"
    }
   ],
   "source": [
    "# 이름, 주소일치하면 운영시간 합치기\n",
    "df['merged_work'] = df.groupby(['name', 'address'])['work_time'].transform(lambda x: '/ '.join(x))\n",
    "df['merged_work']"
   ]
  },
  {
   "cell_type": "code",
   "execution_count": 158,
   "metadata": {},
   "outputs": [],
   "source": [
    "# 중복된 행 제거\n",
    "df = df.drop_duplicates()"
   ]
  },
  {
   "cell_type": "code",
   "execution_count": 159,
   "metadata": {},
   "outputs": [],
   "source": [
    "# 이름이랑 운영시간 아예 똑같으면 일치하는 행이므로 없애기\n",
    "df = df.drop_duplicates(subset=['name', 'merged_work'], keep='first')"
   ]
  },
  {
   "cell_type": "code",
   "execution_count": 160,
   "metadata": {},
   "outputs": [],
   "source": [
    "# DataFrame을 CSV 파일로 저장 (인덱스 포함, utf-8 인코딩)\n",
    "df.to_csv(\"서울시 생활체육 운영시간 합치기.csv\", index=True, encoding='CP949')"
   ]
  },
  {
   "cell_type": "code",
   "execution_count": 162,
   "metadata": {},
   "outputs": [
    {
     "ename": "KeyError",
     "evalue": "\"['work_time'] not found in axis\"",
     "output_type": "error",
     "traceback": [
      "\u001b[1;31m---------------------------------------------------------------------------\u001b[0m",
      "\u001b[1;31mKeyError\u001b[0m                                  Traceback (most recent call last)",
      "\u001b[1;32mc:\\Users\\김가연\\Desktop\\23-2학기\\캡스톤2\\data\\서울시 생활체육 정제.ipynb Cell 9\u001b[0m line \u001b[0;36m1\n\u001b[1;32m----> <a href='vscode-notebook-cell:/c%3A/Users/%EA%B9%80%EA%B0%80%EC%97%B0/Desktop/23-2%ED%95%99%EA%B8%B0/%EC%BA%A1%EC%8A%A4%ED%86%A42/data/%EC%84%9C%EC%9A%B8%EC%8B%9C%20%EC%83%9D%ED%99%9C%EC%B2%B4%EC%9C%A1%20%EC%A0%95%EC%A0%9C.ipynb#X24sZmlsZQ%3D%3D?line=0'>1</a>\u001b[0m df \u001b[39m=\u001b[39m df\u001b[39m.\u001b[39;49mdrop(columns\u001b[39m=\u001b[39;49m[\u001b[39m\"\u001b[39;49m\u001b[39mwork_time\u001b[39;49m\u001b[39m\"\u001b[39;49m])\n\u001b[0;32m      <a href='vscode-notebook-cell:/c%3A/Users/%EA%B9%80%EA%B0%80%EC%97%B0/Desktop/23-2%ED%95%99%EA%B8%B0/%EC%BA%A1%EC%8A%A4%ED%86%A42/data/%EC%84%9C%EC%9A%B8%EC%8B%9C%20%EC%83%9D%ED%99%9C%EC%B2%B4%EC%9C%A1%20%EC%A0%95%EC%A0%9C.ipynb#X24sZmlsZQ%3D%3D?line=1'>2</a>\u001b[0m df\u001b[39m.\u001b[39mhead()\n",
      "File \u001b[1;32mc:\\anaconda3\\lib\\site-packages\\pandas\\util\\_decorators.py:331\u001b[0m, in \u001b[0;36mdeprecate_nonkeyword_arguments.<locals>.decorate.<locals>.wrapper\u001b[1;34m(*args, **kwargs)\u001b[0m\n\u001b[0;32m    325\u001b[0m \u001b[39mif\u001b[39;00m \u001b[39mlen\u001b[39m(args) \u001b[39m>\u001b[39m num_allow_args:\n\u001b[0;32m    326\u001b[0m     warnings\u001b[39m.\u001b[39mwarn(\n\u001b[0;32m    327\u001b[0m         msg\u001b[39m.\u001b[39mformat(arguments\u001b[39m=\u001b[39m_format_argument_list(allow_args)),\n\u001b[0;32m    328\u001b[0m         \u001b[39mFutureWarning\u001b[39;00m,\n\u001b[0;32m    329\u001b[0m         stacklevel\u001b[39m=\u001b[39mfind_stack_level(),\n\u001b[0;32m    330\u001b[0m     )\n\u001b[1;32m--> 331\u001b[0m \u001b[39mreturn\u001b[39;00m func(\u001b[39m*\u001b[39margs, \u001b[39m*\u001b[39m\u001b[39m*\u001b[39mkwargs)\n",
      "File \u001b[1;32mc:\\anaconda3\\lib\\site-packages\\pandas\\core\\frame.py:5399\u001b[0m, in \u001b[0;36mDataFrame.drop\u001b[1;34m(self, labels, axis, index, columns, level, inplace, errors)\u001b[0m\n\u001b[0;32m   5251\u001b[0m \u001b[39m@deprecate_nonkeyword_arguments\u001b[39m(version\u001b[39m=\u001b[39m\u001b[39mNone\u001b[39;00m, allowed_args\u001b[39m=\u001b[39m[\u001b[39m\"\u001b[39m\u001b[39mself\u001b[39m\u001b[39m\"\u001b[39m, \u001b[39m\"\u001b[39m\u001b[39mlabels\u001b[39m\u001b[39m\"\u001b[39m])\n\u001b[0;32m   5252\u001b[0m \u001b[39mdef\u001b[39;00m \u001b[39mdrop\u001b[39m(  \u001b[39m# type: ignore[override]\u001b[39;00m\n\u001b[0;32m   5253\u001b[0m     \u001b[39mself\u001b[39m,\n\u001b[1;32m   (...)\u001b[0m\n\u001b[0;32m   5260\u001b[0m     errors: IgnoreRaise \u001b[39m=\u001b[39m \u001b[39m\"\u001b[39m\u001b[39mraise\u001b[39m\u001b[39m\"\u001b[39m,\n\u001b[0;32m   5261\u001b[0m ) \u001b[39m-\u001b[39m\u001b[39m>\u001b[39m DataFrame \u001b[39m|\u001b[39m \u001b[39mNone\u001b[39;00m:\n\u001b[0;32m   5262\u001b[0m     \u001b[39m\"\"\"\u001b[39;00m\n\u001b[0;32m   5263\u001b[0m \u001b[39m    Drop specified labels from rows or columns.\u001b[39;00m\n\u001b[0;32m   5264\u001b[0m \n\u001b[1;32m   (...)\u001b[0m\n\u001b[0;32m   5397\u001b[0m \u001b[39m            weight  1.0     0.8\u001b[39;00m\n\u001b[0;32m   5398\u001b[0m \u001b[39m    \"\"\"\u001b[39;00m\n\u001b[1;32m-> 5399\u001b[0m     \u001b[39mreturn\u001b[39;00m \u001b[39msuper\u001b[39;49m()\u001b[39m.\u001b[39;49mdrop(\n\u001b[0;32m   5400\u001b[0m         labels\u001b[39m=\u001b[39;49mlabels,\n\u001b[0;32m   5401\u001b[0m         axis\u001b[39m=\u001b[39;49maxis,\n\u001b[0;32m   5402\u001b[0m         index\u001b[39m=\u001b[39;49mindex,\n\u001b[0;32m   5403\u001b[0m         columns\u001b[39m=\u001b[39;49mcolumns,\n\u001b[0;32m   5404\u001b[0m         level\u001b[39m=\u001b[39;49mlevel,\n\u001b[0;32m   5405\u001b[0m         inplace\u001b[39m=\u001b[39;49minplace,\n\u001b[0;32m   5406\u001b[0m         errors\u001b[39m=\u001b[39;49merrors,\n\u001b[0;32m   5407\u001b[0m     )\n",
      "File \u001b[1;32mc:\\anaconda3\\lib\\site-packages\\pandas\\util\\_decorators.py:331\u001b[0m, in \u001b[0;36mdeprecate_nonkeyword_arguments.<locals>.decorate.<locals>.wrapper\u001b[1;34m(*args, **kwargs)\u001b[0m\n\u001b[0;32m    325\u001b[0m \u001b[39mif\u001b[39;00m \u001b[39mlen\u001b[39m(args) \u001b[39m>\u001b[39m num_allow_args:\n\u001b[0;32m    326\u001b[0m     warnings\u001b[39m.\u001b[39mwarn(\n\u001b[0;32m    327\u001b[0m         msg\u001b[39m.\u001b[39mformat(arguments\u001b[39m=\u001b[39m_format_argument_list(allow_args)),\n\u001b[0;32m    328\u001b[0m         \u001b[39mFutureWarning\u001b[39;00m,\n\u001b[0;32m    329\u001b[0m         stacklevel\u001b[39m=\u001b[39mfind_stack_level(),\n\u001b[0;32m    330\u001b[0m     )\n\u001b[1;32m--> 331\u001b[0m \u001b[39mreturn\u001b[39;00m func(\u001b[39m*\u001b[39margs, \u001b[39m*\u001b[39m\u001b[39m*\u001b[39mkwargs)\n",
      "File \u001b[1;32mc:\\anaconda3\\lib\\site-packages\\pandas\\core\\generic.py:4505\u001b[0m, in \u001b[0;36mNDFrame.drop\u001b[1;34m(self, labels, axis, index, columns, level, inplace, errors)\u001b[0m\n\u001b[0;32m   4503\u001b[0m \u001b[39mfor\u001b[39;00m axis, labels \u001b[39min\u001b[39;00m axes\u001b[39m.\u001b[39mitems():\n\u001b[0;32m   4504\u001b[0m     \u001b[39mif\u001b[39;00m labels \u001b[39mis\u001b[39;00m \u001b[39mnot\u001b[39;00m \u001b[39mNone\u001b[39;00m:\n\u001b[1;32m-> 4505\u001b[0m         obj \u001b[39m=\u001b[39m obj\u001b[39m.\u001b[39;49m_drop_axis(labels, axis, level\u001b[39m=\u001b[39;49mlevel, errors\u001b[39m=\u001b[39;49merrors)\n\u001b[0;32m   4507\u001b[0m \u001b[39mif\u001b[39;00m inplace:\n\u001b[0;32m   4508\u001b[0m     \u001b[39mself\u001b[39m\u001b[39m.\u001b[39m_update_inplace(obj)\n",
      "File \u001b[1;32mc:\\anaconda3\\lib\\site-packages\\pandas\\core\\generic.py:4546\u001b[0m, in \u001b[0;36mNDFrame._drop_axis\u001b[1;34m(self, labels, axis, level, errors, only_slice)\u001b[0m\n\u001b[0;32m   4544\u001b[0m         new_axis \u001b[39m=\u001b[39m axis\u001b[39m.\u001b[39mdrop(labels, level\u001b[39m=\u001b[39mlevel, errors\u001b[39m=\u001b[39merrors)\n\u001b[0;32m   4545\u001b[0m     \u001b[39melse\u001b[39;00m:\n\u001b[1;32m-> 4546\u001b[0m         new_axis \u001b[39m=\u001b[39m axis\u001b[39m.\u001b[39;49mdrop(labels, errors\u001b[39m=\u001b[39;49merrors)\n\u001b[0;32m   4547\u001b[0m     indexer \u001b[39m=\u001b[39m axis\u001b[39m.\u001b[39mget_indexer(new_axis)\n\u001b[0;32m   4549\u001b[0m \u001b[39m# Case for non-unique axis\u001b[39;00m\n\u001b[0;32m   4550\u001b[0m \u001b[39melse\u001b[39;00m:\n",
      "File \u001b[1;32mc:\\anaconda3\\lib\\site-packages\\pandas\\core\\indexes\\base.py:6934\u001b[0m, in \u001b[0;36mIndex.drop\u001b[1;34m(self, labels, errors)\u001b[0m\n\u001b[0;32m   6932\u001b[0m \u001b[39mif\u001b[39;00m mask\u001b[39m.\u001b[39many():\n\u001b[0;32m   6933\u001b[0m     \u001b[39mif\u001b[39;00m errors \u001b[39m!=\u001b[39m \u001b[39m\"\u001b[39m\u001b[39mignore\u001b[39m\u001b[39m\"\u001b[39m:\n\u001b[1;32m-> 6934\u001b[0m         \u001b[39mraise\u001b[39;00m \u001b[39mKeyError\u001b[39;00m(\u001b[39mf\u001b[39m\u001b[39m\"\u001b[39m\u001b[39m{\u001b[39;00m\u001b[39mlist\u001b[39m(labels[mask])\u001b[39m}\u001b[39;00m\u001b[39m not found in axis\u001b[39m\u001b[39m\"\u001b[39m)\n\u001b[0;32m   6935\u001b[0m     indexer \u001b[39m=\u001b[39m indexer[\u001b[39m~\u001b[39mmask]\n\u001b[0;32m   6936\u001b[0m \u001b[39mreturn\u001b[39;00m \u001b[39mself\u001b[39m\u001b[39m.\u001b[39mdelete(indexer)\n",
      "\u001b[1;31mKeyError\u001b[0m: \"['work_time'] not found in axis\""
     ]
    }
   ],
   "source": [
    "df = df.drop(columns=[\"work_time\"])\n",
    "df.head()"
   ]
  },
  {
   "cell_type": "code",
   "execution_count": null,
   "metadata": {},
   "outputs": [],
   "source": []
  },
  {
   "cell_type": "code",
   "execution_count": null,
   "metadata": {},
   "outputs": [],
   "source": []
  }
 ],
 "metadata": {
  "kernelspec": {
   "display_name": "base",
   "language": "python",
   "name": "python3"
  },
  "language_info": {
   "codemirror_mode": {
    "name": "ipython",
    "version": 3
   },
   "file_extension": ".py",
   "mimetype": "text/x-python",
   "name": "python",
   "nbconvert_exporter": "python",
   "pygments_lexer": "ipython3",
   "version": "3.10.9"
  }
 },
 "nbformat": 4,
 "nbformat_minor": 2
}
