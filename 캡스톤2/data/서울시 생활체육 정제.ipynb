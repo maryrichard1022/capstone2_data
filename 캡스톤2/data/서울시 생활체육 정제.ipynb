{
 "cells": [
  {
   "cell_type": "code",
   "execution_count": 10,
   "metadata": {},
   "outputs": [],
   "source": [
    "import pandas as pd\n",
    "import numpy as np"
   ]
  },
  {
   "cell_type": "code",
   "execution_count": 11,
   "metadata": {},
   "outputs": [
    {
     "name": "stdout",
     "output_type": "stream",
     "text": [
      "Detected encoding: EUC-KR\n"
     ]
    }
   ],
   "source": [
    "# 인코딩 방식 확인\n",
    "import chardet\n",
    "with open(\"서울시 생활체육 지오코딩_완료3.csv\", 'rb') as f:\n",
    "    result = chardet.detect(f.read())\n",
    "\n",
    "print(\"Detected encoding:\", result['encoding'])"
   ]
  },
  {
   "cell_type": "code",
   "execution_count": 12,
   "metadata": {},
   "outputs": [
    {
     "data": {
      "text/html": [
       "<div>\n",
       "<style scoped>\n",
       "    .dataframe tbody tr th:only-of-type {\n",
       "        vertical-align: middle;\n",
       "    }\n",
       "\n",
       "    .dataframe tbody tr th {\n",
       "        vertical-align: top;\n",
       "    }\n",
       "\n",
       "    .dataframe thead th {\n",
       "        text-align: right;\n",
       "    }\n",
       "</style>\n",
       "<table border=\"1\" class=\"dataframe\">\n",
       "  <thead>\n",
       "    <tr style=\"text-align: right;\">\n",
       "      <th></th>\n",
       "      <th>Unnamed: 0.1</th>\n",
       "      <th>Unnamed: 0</th>\n",
       "      <th>행사명</th>\n",
       "      <th>지역구</th>\n",
       "      <th>제목</th>\n",
       "      <th>내용</th>\n",
       "      <th>대상</th>\n",
       "      <th>종목</th>\n",
       "      <th>일시</th>\n",
       "      <th>장소</th>\n",
       "      <th>참가규모(명)</th>\n",
       "      <th>수혜기관명</th>\n",
       "      <th>주소</th>\n",
       "      <th>전화번호</th>\n",
       "      <th>기관 홈페이지</th>\n",
       "      <th>위도</th>\n",
       "      <th>경도</th>\n",
       "    </tr>\n",
       "  </thead>\n",
       "  <tbody>\n",
       "    <tr>\n",
       "      <th>0</th>\n",
       "      <td>0</td>\n",
       "      <td>0</td>\n",
       "      <td>축구(송파여성축구장)</td>\n",
       "      <td>송파</td>\n",
       "      <td>일반체육활동사업</td>\n",
       "      <td>축구</td>\n",
       "      <td>일반</td>\n",
       "      <td>축구</td>\n",
       "      <td>월, 금 10:00~12:00</td>\n",
       "      <td>송파여성축구장</td>\n",
       "      <td>30명</td>\n",
       "      <td>송파구여성동호인</td>\n",
       "      <td>서울특별시 송파구 방이동88</td>\n",
       "      <td>NaN</td>\n",
       "      <td>NaN</td>\n",
       "      <td>37.521031</td>\n",
       "      <td>127.116165</td>\n",
       "    </tr>\n",
       "    <tr>\n",
       "      <th>1</th>\n",
       "      <td>1</td>\n",
       "      <td>1</td>\n",
       "      <td>특수체육(하상장애인복지관)</td>\n",
       "      <td>강남</td>\n",
       "      <td>일반체육활동사업</td>\n",
       "      <td>일반체육활동사업</td>\n",
       "      <td>일반</td>\n",
       "      <td>특수체육</td>\n",
       "      <td>화 15:30~16:20/16:20~17:00</td>\n",
       "      <td>하상장애인복지관</td>\n",
       "      <td>8</td>\n",
       "      <td>하상장애인복지관</td>\n",
       "      <td>서울특별시 강남구 개포로613</td>\n",
       "      <td>02-451-6000</td>\n",
       "      <td>http://www.hasang.org/main/main.php</td>\n",
       "      <td>37.492554</td>\n",
       "      <td>127.075132</td>\n",
       "    </tr>\n",
       "    <tr>\n",
       "      <th>2</th>\n",
       "      <td>2</td>\n",
       "      <td>2</td>\n",
       "      <td>각 종 뉴스포츠(비상청소년사회복귀시설)</td>\n",
       "      <td>관악</td>\n",
       "      <td>일반체육활동사업</td>\n",
       "      <td>각 종 뉴스포츠</td>\n",
       "      <td>일반</td>\n",
       "      <td>각 종 뉴스포츠</td>\n",
       "      <td>화 13:30~14:10, 화 14:10~14:50</td>\n",
       "      <td>비상청소년사회복귀시설</td>\n",
       "      <td>20명</td>\n",
       "      <td>비상청소년사회복귀시설</td>\n",
       "      <td>서울특별시 관악구 남부순환로 2054</td>\n",
       "      <td>070-4200-4401</td>\n",
       "      <td>http://www.visang.or.kr/</td>\n",
       "      <td>37.476337</td>\n",
       "      <td>126.976925</td>\n",
       "    </tr>\n",
       "    <tr>\n",
       "      <th>3</th>\n",
       "      <td>4</td>\n",
       "      <td>4</td>\n",
       "      <td>기초체력(노들나루공원)</td>\n",
       "      <td>동작</td>\n",
       "      <td>일반체육활동사업</td>\n",
       "      <td>걷기</td>\n",
       "      <td>일반</td>\n",
       "      <td>기초체력</td>\n",
       "      <td>화 10:00~11:00</td>\n",
       "      <td>노들나루공원</td>\n",
       "      <td>30명</td>\n",
       "      <td>노들나루공원</td>\n",
       "      <td>서울특별시 동작구 노량진로 247</td>\n",
       "      <td>02-820-9435</td>\n",
       "      <td>www.dongjak.go.kr/healthcare/main/main.do</td>\n",
       "      <td>37.514531</td>\n",
       "      <td>126.952430</td>\n",
       "    </tr>\n",
       "    <tr>\n",
       "      <th>4</th>\n",
       "      <td>5</td>\n",
       "      <td>5</td>\n",
       "      <td>생활체조(사당분소)</td>\n",
       "      <td>동작</td>\n",
       "      <td>일반체육활동사업</td>\n",
       "      <td>근력운동, 치매예방, 스트레칭</td>\n",
       "      <td>여성</td>\n",
       "      <td>생활체조</td>\n",
       "      <td>금 13:40~14:20</td>\n",
       "      <td>사당분소</td>\n",
       "      <td>20명</td>\n",
       "      <td>동작구보건소 사당분소</td>\n",
       "      <td>서울특별시 동작구 사당로 253-3</td>\n",
       "      <td>02-820-9644</td>\n",
       "      <td>NaN</td>\n",
       "      <td>37.483674</td>\n",
       "      <td>126.975871</td>\n",
       "    </tr>\n",
       "  </tbody>\n",
       "</table>\n",
       "</div>"
      ],
      "text/plain": [
       "   Unnamed: 0.1  Unnamed: 0                    행사명 지역구        제목  \\\n",
       "0             0           0            축구(송파여성축구장)  송파  일반체육활동사업   \n",
       "1             1           1         특수체육(하상장애인복지관)  강남  일반체육활동사업   \n",
       "2             2           2  각 종 뉴스포츠(비상청소년사회복귀시설)  관악  일반체육활동사업   \n",
       "3             4           4           기초체력(노들나루공원)  동작  일반체육활동사업   \n",
       "4             5           5             생활체조(사당분소)  동작  일반체육활동사업   \n",
       "\n",
       "                 내용  대상        종목                            일시           장소  \\\n",
       "0                축구  일반        축구              월, 금 10:00~12:00      송파여성축구장   \n",
       "1          일반체육활동사업  일반      특수체육     화 15:30~16:20/16:20~17:00     하상장애인복지관   \n",
       "2          각 종 뉴스포츠  일반  각 종 뉴스포츠  화 13:30~14:10, 화 14:10~14:50  비상청소년사회복귀시설   \n",
       "3                걷기  일반      기초체력                 화 10:00~11:00       노들나루공원   \n",
       "4  근력운동, 치매예방, 스트레칭  여성      생활체조                 금 13:40~14:20         사당분소   \n",
       "\n",
       "  참가규모(명)        수혜기관명                    주소           전화번호  \\\n",
       "0     30명     송파구여성동호인       서울특별시 송파구 방이동88            NaN   \n",
       "1       8     하상장애인복지관      서울특별시 강남구 개포로613    02-451-6000   \n",
       "2     20명  비상청소년사회복귀시설  서울특별시 관악구 남부순환로 2054  070-4200-4401   \n",
       "3     30명       노들나루공원    서울특별시 동작구 노량진로 247    02-820-9435   \n",
       "4     20명  동작구보건소 사당분소   서울특별시 동작구 사당로 253-3    02-820-9644   \n",
       "\n",
       "                                     기관 홈페이지         위도          경도  \n",
       "0                                        NaN  37.521031  127.116165  \n",
       "1        http://www.hasang.org/main/main.php  37.492554  127.075132  \n",
       "2                   http://www.visang.or.kr/  37.476337  126.976925  \n",
       "3  www.dongjak.go.kr/healthcare/main/main.do  37.514531  126.952430  \n",
       "4                                        NaN  37.483674  126.975871  "
      ]
     },
     "execution_count": 12,
     "metadata": {},
     "output_type": "execute_result"
    }
   ],
   "source": [
    "df = pd.read_csv(\"서울시 생활체육 지오코딩_완료3.csv\", encoding='CP949')\n",
    "df.head()"
   ]
  },
  {
   "cell_type": "code",
   "execution_count": 13,
   "metadata": {},
   "outputs": [
    {
     "data": {
      "text/plain": [
       "RangeIndex(start=0, stop=288, step=1)"
      ]
     },
     "execution_count": 13,
     "metadata": {},
     "output_type": "execute_result"
    }
   ],
   "source": [
    "df.index"
   ]
  },
  {
   "cell_type": "code",
   "execution_count": 14,
   "metadata": {},
   "outputs": [
    {
     "data": {
      "text/plain": [
       "Index(['Unnamed: 0.1', 'Unnamed: 0', '행사명', '지역구', '제목', '내용', '대상', '종목',\n",
       "       '일시', '장소', '참가규모(명)', '수혜기관명', '주소', '전화번호', '기관 홈페이지', '위도', '경도'],\n",
       "      dtype='object')"
      ]
     },
     "execution_count": 14,
     "metadata": {},
     "output_type": "execute_result"
    }
   ],
   "source": [
    "df.columns"
   ]
  },
  {
   "cell_type": "code",
   "execution_count": 21,
   "metadata": {},
   "outputs": [
    {
     "name": "stdout",
     "output_type": "stream",
     "text": [
      "                       행사명                                                 일시\n",
      "0    각 종 뉴스포츠(비상청소년사회복귀시설)  화 13:30~14:10, 화 14:10~14:50/화 14:10~14:50/화 1...\n",
      "1               걷기(경춘선 숲길)  월,수 10:00~11:20/화,목 10:00~11:20/목, 금 10:00~11:...\n",
      "2               걷기(북서울꿈의숲)  금 10:00~11:20/금 10:00~11:30/금 10:00~11:20/금 10...\n",
      "3               걷기(북한산둘레길)                        수 10:00~11:30/수 10:00~11:30\n",
      "4              걷기(성북동 성곽길)  월 11:00~12:00/월 10:00~11:00/월 11:00~12:00/월 10...\n",
      "..                     ...                                                ...\n",
      "136            헬스(청구동주민센터)  목 10:00~10:40/화 10:00~10:40/목 10:00~10:40/화 10...\n",
      "137             헬스(홍제천 인근)          월 10:00~12:00/수 10:00~12:00/월 10:00~12:00\n",
      "138             헬스(홍제천 일대)  목 09:00~10:30/월, 목 09:00~10:30/월, 목 09:00~10:3...\n",
      "139      헬스, 근력운동(황학동주민센터)                    수,금 10:30~11:30/수,금 10:30~11:30\n",
      "140   헬스,필라테스(대림1동 주민자치센터)                        월 10:30~11:10/월 09:50~10:30\n",
      "\n",
      "[141 rows x 2 columns]\n"
     ]
    }
   ],
   "source": [
    "grouped = df.groupby('행사명')['일시'].agg('/'.join).reset_index()\n",
    "\n",
    "print(grouped)"
   ]
  },
  {
   "cell_type": "code",
   "execution_count": 22,
   "metadata": {},
   "outputs": [
    {
     "name": "stdout",
     "output_type": "stream",
     "text": [
      "     Unnamed: 0.1  Unnamed: 0                    행사명 지역구        제목  \\\n",
      "0               0           0            축구(송파여성축구장)  송파  일반체육활동사업   \n",
      "1             154         154            축구(송파여성축구장)  송파        축구   \n",
      "2               1           1         특수체육(하상장애인복지관)  강남  일반체육활동사업   \n",
      "3             156         156         특수체육(하상장애인복지관)  강남      특수체육   \n",
      "4               2           2  각 종 뉴스포츠(비상청소년사회복귀시설)  관악  일반체육활동사업   \n",
      "..            ...         ...                    ...  ..       ...   \n",
      "283           269         269         근력운동(자양2동주민센터)  광진      근력운동   \n",
      "284           270         270         라인댄스(자양1동주민센터)  광진      라인댄스   \n",
      "285           271         271         줌바댄스(자양1동주민센터)  광진      줌바댄스   \n",
      "286           281         281          헬스(신당종합사회복지관)  중구        헬스   \n",
      "287           286         286     기타체육(종로1234가동주민센터)  종로      기타체육   \n",
      "\n",
      "               내용      대상        종목            장소 참가규모(명)         수혜기관명  \\\n",
      "0              축구      일반        축구       송파여성축구장     30명      송파구여성동호인   \n",
      "1              축구      일반        축구       송파여성축구장     20명      송파구여성동호인   \n",
      "2        일반체육활동사업      일반      특수체육      하상장애인복지관       8      하상장애인복지관   \n",
      "3            특수체육      일반      특수체육      하상장애인복지관      8명      하상장애인복지관   \n",
      "4        각 종 뉴스포츠      일반  각 종 뉴스포츠   비상청소년사회복귀시설     20명   비상청소년사회복귀시설   \n",
      "..            ...     ...       ...           ...     ...           ...   \n",
      "283          근력운동      일반      근력운동      자양2동주민센터     NaN           NaN   \n",
      "284          라인댄스      일반      라인댄스      자양1동주민센터     NaN           NaN   \n",
      "285          줌바댄스      일반      줌바댄스      자양1동주민센터     NaN           NaN   \n",
      "286            헬스      여성        헬스     신당종합사회복지관     20명     신당종합사회복지관   \n",
      "287  교구를 이용한 신체활동  일반(성인)      기타체육  종로1234가동주민센터     20명  종로1234가동주민센터   \n",
      "\n",
      "                                        주소           전화번호  \\\n",
      "0                          서울특별시 송파구 방이동88            NaN   \n",
      "1                                송파구 방이동88            NaN   \n",
      "2                         서울특별시 강남구 개포로613    02-451-6000   \n",
      "3                            서울 강남구 개포로613    02-451-6000   \n",
      "4                     서울특별시 관악구 남부순환로 2054  070-4200-4401   \n",
      "..                                     ...            ...   \n",
      "283                               자양2동주민센터    02-450-1603   \n",
      "284                               자양1동주민센터    02-450-1285   \n",
      "285                               자양1동주민센터    02-450-1285   \n",
      "286                 중구 동호로11길 22 신당종합사회복지관   02-2231-1876   \n",
      "287  서울특별시 종로구 삼일대로30길 47 종로1,2,3,4가동 주민센터   02-2148-5253   \n",
      "\n",
      "                                               기관 홈페이지         위도          경도  \\\n",
      "0                                                  NaN  37.521031  127.116165   \n",
      "1                                                  NaN  37.521031  127.116165   \n",
      "2                  http://www.hasang.org/main/main.php  37.492554  127.075132   \n",
      "3                  http://www.hasang.org/main/main.php  37.492554  127.075132   \n",
      "4                             http://www.visang.or.kr/  37.476337  126.976925   \n",
      "..                                                 ...        ...         ...   \n",
      "283  https://www.gwangjin.go.kr/dong/main/main.do?d...  36.343582  127.453915   \n",
      "284  https://www.gwangjin.go.kr/dong/main/main.do?d...  36.069734  129.065691   \n",
      "285  https://www.gwangjin.go.kr/dong/main/main.do?d...  36.069734  129.065691   \n",
      "286                         http://www.shindang.or.kr/  37.554361  127.009523   \n",
      "287                                                NaN  37.574492  126.990233   \n",
      "\n",
      "                                               그룹화된_일시  \n",
      "0                    월, 금 10:00~12:00/월, 금 10:00~12:00  \n",
      "1                    월, 금 10:00~12:00/월, 금 10:00~12:00  \n",
      "2    화 15:30~16:20/16:20~17:00/화 15:30~16:20/16:20~...  \n",
      "3    화 15:30~16:20/16:20~17:00/화 15:30~16:20/16:20~...  \n",
      "4    화 13:30~14:10, 화 14:10~14:50/화 14:10~14:50/화 1...  \n",
      "..                                                 ...  \n",
      "283                                      화 14;00~14:40  \n",
      "284                                      화 11:50~12:30  \n",
      "285                                      화 11:00~11:40  \n",
      "286                                      수 15:00~15:40  \n",
      "287                                       월16:00~16:40  \n",
      "\n",
      "[288 rows x 17 columns]\n"
     ]
    }
   ],
   "source": [
    "merged_df = pd.merge(df, grouped, on='행사명')\n",
    "\n",
    "# 열 이름 변경\n",
    "merged_df.rename(columns={'일시_y': '그룹화된_일시'}, inplace=True)\n",
    "merged_df.drop('일시_x', axis=1, inplace=True)\n",
    "\n",
    "print(merged_df)"
   ]
  },
  {
   "cell_type": "code",
   "execution_count": 24,
   "metadata": {},
   "outputs": [],
   "source": [
    "df = merged_df"
   ]
  },
  {
   "cell_type": "code",
   "execution_count": 25,
   "metadata": {},
   "outputs": [],
   "source": [
    "# DataFrame을 CSV 파일로 저장 (인덱스 포함, utf-8 인코딩)\n",
    "df.to_csv(\"서울시 생활체육 지오코딩_완료4.csv\", index=True, encoding='CP949')"
   ]
  },
  {
   "cell_type": "code",
   "execution_count": null,
   "metadata": {},
   "outputs": [],
   "source": []
  }
 ],
 "metadata": {
  "kernelspec": {
   "display_name": "base",
   "language": "python",
   "name": "python3"
  },
  "language_info": {
   "codemirror_mode": {
    "name": "ipython",
    "version": 3
   },
   "file_extension": ".py",
   "mimetype": "text/x-python",
   "name": "python",
   "nbconvert_exporter": "python",
   "pygments_lexer": "ipython3",
   "version": "3.10.9"
  }
 },
 "nbformat": 4,
 "nbformat_minor": 2
}
