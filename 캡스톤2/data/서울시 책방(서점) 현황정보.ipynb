{
 "cells": [
  {
   "cell_type": "code",
   "execution_count": 16,
   "metadata": {},
   "outputs": [
    {
     "data": {
      "text/plain": [
       "(167, 13)"
      ]
     },
     "execution_count": 16,
     "metadata": {},
     "output_type": "execute_result"
    }
   ],
   "source": [
    "import pandas as pd\n",
    "import numpy as np\n",
    "df = pd.read_csv(\"서울시 책방(서점) 결측치 있는 이미지.csv\", encoding='CP949')\n",
    "df.head()\n",
    "\n",
    "df[df[\"image_url\"].isna()].shape"
   ]
  },
  {
   "cell_type": "code",
   "execution_count": 17,
   "metadata": {},
   "outputs": [
    {
     "data": {
      "text/html": [
       "<div>\n",
       "<style scoped>\n",
       "    .dataframe tbody tr th:only-of-type {\n",
       "        vertical-align: middle;\n",
       "    }\n",
       "\n",
       "    .dataframe tbody tr th {\n",
       "        vertical-align: top;\n",
       "    }\n",
       "\n",
       "    .dataframe thead th {\n",
       "        text-align: right;\n",
       "    }\n",
       "</style>\n",
       "<table border=\"1\" class=\"dataframe\">\n",
       "  <thead>\n",
       "    <tr style=\"text-align: right;\">\n",
       "      <th></th>\n",
       "      <th>Unnamed: 0</th>\n",
       "      <th>category_id</th>\n",
       "      <th>name</th>\n",
       "      <th>district</th>\n",
       "      <th>address</th>\n",
       "      <th>latitude</th>\n",
       "      <th>longitude</th>\n",
       "      <th>work_time</th>\n",
       "      <th>price</th>\n",
       "      <th>phone_number</th>\n",
       "      <th>image_url</th>\n",
       "      <th>SNS url</th>\n",
       "      <th>page_url</th>\n",
       "      <th>description</th>\n",
       "      <th>책방 구분명</th>\n",
       "    </tr>\n",
       "  </thead>\n",
       "  <tbody>\n",
       "    <tr>\n",
       "      <th>0</th>\n",
       "      <td>1</td>\n",
       "      <td>NaN</td>\n",
       "      <td>21세기문고</td>\n",
       "      <td>강남구</td>\n",
       "      <td>강남구 남부순환로359길 31</td>\n",
       "      <td>37.486833</td>\n",
       "      <td>127.035565</td>\n",
       "      <td>NaN</td>\n",
       "      <td>무료</td>\n",
       "      <td>02-3463-1880</td>\n",
       "      <td>NaN</td>\n",
       "      <td>NaN</td>\n",
       "      <td>NaN</td>\n",
       "      <td>NaN</td>\n",
       "      <td>새책방</td>\n",
       "    </tr>\n",
       "    <tr>\n",
       "      <th>1</th>\n",
       "      <td>4</td>\n",
       "      <td>NaN</td>\n",
       "      <td>PRNT</td>\n",
       "      <td>동작구</td>\n",
       "      <td>동작구 만양로1길 1 1층</td>\n",
       "      <td>37.505733</td>\n",
       "      <td>126.946737</td>\n",
       "      <td>NaN</td>\n",
       "      <td>무료</td>\n",
       "      <td>070-4177-0021</td>\n",
       "      <td>NaN</td>\n",
       "      <td>https://www.instagram.com/prntseoul</td>\n",
       "      <td>https://prntseoul.com</td>\n",
       "      <td>NaN</td>\n",
       "      <td>새책방</td>\n",
       "    </tr>\n",
       "    <tr>\n",
       "      <th>2</th>\n",
       "      <td>19</td>\n",
       "      <td>NaN</td>\n",
       "      <td>거목서점</td>\n",
       "      <td>서초구</td>\n",
       "      <td>서초구 신반포로 213 지하 9호</td>\n",
       "      <td>37.507271</td>\n",
       "      <td>127.007271</td>\n",
       "      <td>NaN</td>\n",
       "      <td>무료</td>\n",
       "      <td>02-3476-1585</td>\n",
       "      <td>NaN</td>\n",
       "      <td>NaN</td>\n",
       "      <td>NaN</td>\n",
       "      <td>NaN</td>\n",
       "      <td>새책방</td>\n",
       "    </tr>\n",
       "    <tr>\n",
       "      <th>3</th>\n",
       "      <td>21</td>\n",
       "      <td>NaN</td>\n",
       "      <td>건영문고</td>\n",
       "      <td>노원구</td>\n",
       "      <td>노원구 섬밭로 258 지하 1층</td>\n",
       "      <td>37.639110</td>\n",
       "      <td>127.064915</td>\n",
       "      <td>NaN</td>\n",
       "      <td>무료</td>\n",
       "      <td>02-949-2148</td>\n",
       "      <td>NaN</td>\n",
       "      <td>NaN</td>\n",
       "      <td>NaN</td>\n",
       "      <td>NaN</td>\n",
       "      <td>새책방</td>\n",
       "    </tr>\n",
       "    <tr>\n",
       "      <th>4</th>\n",
       "      <td>23</td>\n",
       "      <td>NaN</td>\n",
       "      <td>경희문고</td>\n",
       "      <td>동대문구</td>\n",
       "      <td>동대문구 회기로 113</td>\n",
       "      <td>37.591650</td>\n",
       "      <td>127.049310</td>\n",
       "      <td>NaN</td>\n",
       "      <td>무료</td>\n",
       "      <td>02-957-7799</td>\n",
       "      <td>NaN</td>\n",
       "      <td>https://www.instagram.com/khbook_seoul</td>\n",
       "      <td>NaN</td>\n",
       "      <td>NaN</td>\n",
       "      <td>새책방</td>\n",
       "    </tr>\n",
       "  </tbody>\n",
       "</table>\n",
       "</div>"
      ],
      "text/plain": [
       "   Unnamed: 0  category_id    name district             address   latitude  \\\n",
       "0           1          NaN  21세기문고      강남구    강남구 남부순환로359길 31  37.486833   \n",
       "1           4          NaN    PRNT      동작구      동작구 만양로1길 1 1층  37.505733   \n",
       "2          19          NaN    거목서점      서초구  서초구 신반포로 213 지하 9호  37.507271   \n",
       "3          21          NaN    건영문고      노원구   노원구 섬밭로 258 지하 1층  37.639110   \n",
       "4          23          NaN    경희문고     동대문구        동대문구 회기로 113  37.591650   \n",
       "\n",
       "    longitude  work_time price    phone_number image_url  \\\n",
       "0  127.035565        NaN    무료  02-3463-1880         NaN   \n",
       "1  126.946737        NaN    무료   070-4177-0021       NaN   \n",
       "2  127.007271        NaN    무료    02-3476-1585       NaN   \n",
       "3  127.064915        NaN    무료     02-949-2148       NaN   \n",
       "4  127.049310        NaN    무료     02-957-7799       NaN   \n",
       "\n",
       "                                  SNS url               page_url  description  \\\n",
       "0                                     NaN                    NaN          NaN   \n",
       "1     https://www.instagram.com/prntseoul  https://prntseoul.com          NaN   \n",
       "2                                     NaN                    NaN          NaN   \n",
       "3                                     NaN                    NaN          NaN   \n",
       "4  https://www.instagram.com/khbook_seoul                    NaN          NaN   \n",
       "\n",
       "      책방 구분명  \n",
       "0  새책방        \n",
       "1  새책방        \n",
       "2  새책방        \n",
       "3  새책방        \n",
       "4  새책방        "
      ]
     },
     "execution_count": 17,
     "metadata": {},
     "output_type": "execute_result"
    }
   ],
   "source": [
    "df2 = pd.read_csv(\"서울시 책방 이미지 결측치 채우기.csv\", encoding='CP949')\n",
    "df2.head()"
   ]
  },
  {
   "cell_type": "code",
   "execution_count": 20,
   "metadata": {},
   "outputs": [
    {
     "data": {
      "text/plain": [
       "(156, 13)"
      ]
     },
     "execution_count": 20,
     "metadata": {},
     "output_type": "execute_result"
    }
   ],
   "source": [
    "df['image_url'] = df['image_url'].fillna(df2['image_url'])\n",
    "df[df[\"image_url\"].isna()].shape"
   ]
  },
  {
   "cell_type": "code",
   "execution_count": 21,
   "metadata": {},
   "outputs": [],
   "source": [
    "# DataFrame을 CSV 파일로 저장 (인덱스 포함, utf-8 인코딩)\n",
    "df.to_csv(\"서울시 책방(서점) 이미지 크롤링 최종본.csv\", index=True, encoding='CP949')"
   ]
  },
  {
   "cell_type": "code",
   "execution_count": 30,
   "metadata": {},
   "outputs": [
    {
     "data": {
      "text/plain": [
       "(0, 13)"
      ]
     },
     "execution_count": 30,
     "metadata": {},
     "output_type": "execute_result"
    }
   ],
   "source": [
    "df = df.dropna(subset=['image_url'])\n",
    "df[df[\"image_url\"].isna()].shape"
   ]
  },
  {
   "cell_type": "code",
   "execution_count": 31,
   "metadata": {},
   "outputs": [],
   "source": [
    "# DataFrame을 CSV 파일로 저장 (인덱스 포함, utf-8 인코딩)\n",
    "df.to_csv(\"서울시 책방(서점) 이미지 크롤링 최종본 결측치 drop.csv\", index=True, encoding='CP949')"
   ]
  },
  {
   "cell_type": "code",
   "execution_count": null,
   "metadata": {},
   "outputs": [],
   "source": []
  }
 ],
 "metadata": {
  "kernelspec": {
   "display_name": "base",
   "language": "python",
   "name": "python3"
  },
  "language_info": {
   "codemirror_mode": {
    "name": "ipython",
    "version": 3
   },
   "file_extension": ".py",
   "mimetype": "text/x-python",
   "name": "python",
   "nbconvert_exporter": "python",
   "pygments_lexer": "ipython3",
   "version": "3.10.9"
  }
 },
 "nbformat": 4,
 "nbformat_minor": 2
}
