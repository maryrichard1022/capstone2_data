{
 "cells": [
  {
   "cell_type": "code",
   "execution_count": 92,
   "metadata": {},
   "outputs": [],
   "source": [
    "import pandas as pd\n",
    "import numpy as np\n",
    "\n",
    "df = pd.read_csv(\"서울시 생활체육 가장 최신.csv\", encoding='CP949')"
   ]
  },
  {
   "cell_type": "code",
   "execution_count": 93,
   "metadata": {},
   "outputs": [
    {
     "data": {
      "text/plain": [
       "array(['축구', '특수체육', '각 종 뉴스포츠', '기초체력', '생활체조', '스트레칭, 근력운동', '요가',\n",
       "       '헬스,필라테스', '헬스', '스트레칭,헬스', '생활체육', '스트레칭, 헬스', '스트레칭,생활체조', '배구',\n",
       "       '스트레칭', '보디빌딩', '요가,헬스', '뉴스포츠', '족구', '헬스&근력운동(G.X)', '탁구',\n",
       "       '경춘선 숲길 걷기 수업', '학교체육', '걷기운동', '걷기', '근력운동', '밴드운동', '배드민턴',\n",
       "       '라인댄스', '리듬댄스', '테라밴드', '덤벨체조', '스트레칭(세라밴드)', '헬스, 근력운동', '에어로빅',\n",
       "       '체육', '웨이트트레이닝', '농구', '뮤직복싱', '댄스스포츠', '줌바댄스', '기타체육'],\n",
       "      dtype=object)"
      ]
     },
     "execution_count": 93,
     "metadata": {},
     "output_type": "execute_result"
    }
   ],
   "source": [
    "df[\"description\"].unique()"
   ]
  },
  {
   "cell_type": "code",
   "execution_count": 94,
   "metadata": {},
   "outputs": [
    {
     "data": {
      "text/plain": [
       "array(['축구', '특수체육', '각 종 뉴스포츠', '기초체력', '생활체조', '스트레칭, 근력운동', '요가',\n",
       "       '헬스,필라테스', '헬스', '스트레칭,헬스', '생활체육', '스트레칭, 헬스', '스트레칭,생활체조', '배구',\n",
       "       '스트레칭', '보디빌딩', '요가,헬스', '뉴스포츠', '족구', '헬스&근력운동(G.X)', '탁구',\n",
       "       '경춘선 숲길 걷기 수업', '걷기운동', '걷기', '근력운동', '밴드운동', '배드민턴', '라인댄스',\n",
       "       '리듬댄스', '테라밴드', '덤벨체조', '스트레칭(세라밴드)', '헬스, 근력운동', '에어로빅', '체육',\n",
       "       '웨이트트레이닝', '농구', '뮤직복싱', '댄스스포츠', '줌바댄스', '기타체육'], dtype=object)"
      ]
     },
     "execution_count": 94,
     "metadata": {},
     "output_type": "execute_result"
    }
   ],
   "source": [
    "df = df[df['description'] != '학교체육']\n",
    "df[\"description\"].unique()"
   ]
  },
  {
   "cell_type": "code",
   "execution_count": 107,
   "metadata": {},
   "outputs": [],
   "source": [
    "# 축구\n",
    "soccer_url = \"https://images.unsplash.com/photo-1551958219-acbc608c6377?auto=format&fit=crop&q=80&w=1170&ixlib=rb-4.0.3&ixid=M3wxMjA3fDB8MHxwaG90by1wYWdlfHx8fGVufDB8fHx8fA%3D%3D\"\n",
    "# 요가\n",
    "yoga_url = \"https://images.unsplash.com/photo-1544367567-0f2fcb009e0b?auto=format&fit=crop&q=80&w=1220&ixlib=rb-4.0.3&ixid=M3wxMjA3fDB8MHxwaG90by1wYWdlfHx8fGVufDB8fHx8fA%3D%3D\"\n",
    "# 세라 밴드\n",
    "band_url = \"https://images.unsplash.com/photo-1517130038641-a774d04afb3c?auto=format&fit=crop&q=80&w=1170&ixlib=rb-4.0.3&ixid=M3wxMjA3fDB8MHxwaG90by1wYWdlfHx8fGVufDB8fHx8fA%3D%3D\"\n",
    "# 헬스\n",
    "fitness_url = \"https://images.unsplash.com/photo-1517963879433-6ad2b056d712?auto=format&fit=crop&q=80&w=1170&ixlib=rb-4.0.3&ixid=M3wxMjA3fDB8MHxwaG90by1wYWdlfHx8fGVufDB8fHx8fA%3D%3D\"\n",
    "# 탁구\n",
    "tabletennis_url = \"https://images.unsplash.com/photo-1564518440696-ef272968778e?auto=format&fit=crop&q=80&w=1170&ixlib=rb-4.0.3&ixid=M3wxMjA3fDB8MHxwaG90by1wYWdlfHx8fGVufDB8fHx8fA%3D%3D\"\n",
    "# 배구\n",
    "volleyball_url = \"https://images.unsplash.com/photo-1612872087720-bb876e2e67d1?auto=format&fit=crop&q=80&w=1307&ixlib=rb-4.0.3&ixid=M3wxMjA3fDB8MHxwaG90by1wYWdlfHx8fGVufDB8fHx8fA%3D%3D\"\n",
    "# 배드민턴\n",
    "badminton_url =\"https://images.unsplash.com/photo-1521537634581-0dced2fee2ef?auto=format&fit=crop&q=80&w=1170&ixlib=rb-4.0.3&ixid=M3wxMjA3fDB8MHxwaG90by1wYWdlfHx8fGVufDB8fHx8fA%3D%3D\"\n",
    "# 걷기\n",
    "walk_url = \"https://images.unsplash.com/photo-1487956382158-bb926046304a?auto=format&fit=crop&q=80&w=1171&ixlib=rb-4.0.3&ixid=M3wxMjA3fDB8MHxwaG90by1wYWdlfHx8fGVufDB8fHx8fA%3D%3D\"\n",
    "# 보디빌딩\n",
    "body_url = \"https://images.unsplash.com/photo-1526506118085-60ce8714f8c5?auto=format&fit=crop&q=80&w=1287&ixlib=rb-4.0.3&ixid=M3wxMjA3fDB8MHxwaG90by1wYWdlfHx8fGVufDB8fHx8fA%3D%3D\"\n",
    "# 웨이트 트레이닝\n",
    "weight_url = \"https://images.unsplash.com/photo-1517963879433-6ad2b056d712?auto=format&fit=crop&q=80&w=1170&ixlib=rb-4.0.3&ixid=M3wxMjA3fDB8MHxwaG90by1wYWdlfHx8fGVufDB8fHx8fA%3D%3D\"\n",
    "# 덤벨, 근력\n",
    "dumbbell_url = \"https://images.pexels.com/photos/39671/physiotherapy-weight-training-dumbbell-exercise-balls-39671.jpeg?auto=compress&cs=tinysrgb&w=1260&h=750&dpr=1\"\n",
    "# 농구\n",
    "basketball_url = \"https://images.pexels.com/photos/1752757/pexels-photo-1752757.jpeg?auto=compress&cs=tinysrgb&w=1260&h=750&dpr=1\"\n",
    "# 에어로빅, 줌바\n",
    "zumba_url = \"https://as2.ftcdn.net/v2/jpg/03/40/51/65/1000_F_340516560_gKJSjmXXjDHu28s4JUkIGxRi3u9FhTjD.jpg\"\n",
    "# 복싱\n",
    "boxing_url = \"https://images.pexels.com/photos/4753923/pexels-photo-4753923.jpeg?auto=compress&cs=tinysrgb&w=1260&h=750&dpr=1\"\n",
    "# 댄스\n",
    "dance_url =\"https://plus.unsplash.com/premium_photo-1681492508069-d558d8fa0ad7?auto=format&fit=crop&q=80&w=1171&ixlib=rb-4.0.3&ixid=M3wxMjA3fDB8MHxwaG90by1wYWdlfHx8fGVufDB8fHx8fA%3D%3D\"\n",
    "# 족구\n",
    "footballtennis_url = \"https://jobsinfootball.com/files/pictures/soccer_tennis.jpg\"\n",
    "# 스트레칭\n",
    "stretching_url = \"https://images.unsplash.com/photo-1552196563-55cd4e45efb3?auto=format&fit=crop&q=80&w=1326&ixlib=rb-4.0.3&ixid=M3wxMjA3fDB8MHxwaG90by1wYWdlfHx8fGVufDB8fHx8fA%3D%3D\"\n",
    "# 특수체육\n",
    "special_url = \"https://img.freepik.com/free-photo/full-shot-friends-playing-basketball-together_23-2149392042.jpg?w=1060&t=st=1698657763~exp=1698658363~hmac=489643b18a892a3e188b897428724d75c9e941d121e9fea9916c53af9bb537d4\"\n",
    "# 필라테스\n",
    "pilates_url = \"https://img.freepik.com/free-photo/woman-with-trainer-practising-yoga_1303-14852.jpg?w=1060&t=st=1698656220~exp=1698656820~hmac=0f3694f5ee6513e12f8ef054465674fec618e47e056bd9d7756ec1dadd3de5ea\"\n",
    "# 생활체조\n",
    "gymnastics_url = \"https://img.freepik.com/free-photo/men-and-women-warm-up-before-and-after-exercising_1150-23003.jpg?w=1060&t=st=1698655137~exp=1698655737~hmac=fbcb731e03e38413e76c25c99f1c393cde5bbd5247d2dd3ec385c04c355d58fe\"\n",
    "\n",
    "# 뉴스포츠\n",
    "new_url = \"https://img.freepik.com/free-photo/sports-tools_53876-138077.jpg?w=1060&t=st=1698657803~exp=1698658403~hmac=00859a66d1826f1d0158cc6967a418d2f3d17963e36f9a4ae3ce9aad1d510e73\""
   ]
  },
  {
   "cell_type": "code",
   "execution_count": 108,
   "metadata": {},
   "outputs": [],
   "source": [
    "# 축구 이미지\n",
    "df.loc[df['description'].str.contains('축구'), 'image_url'] = soccer_url"
   ]
  },
  {
   "cell_type": "code",
   "execution_count": 109,
   "metadata": {},
   "outputs": [],
   "source": [
    "#체조\n",
    "df.loc[df['description'].str.contains('체조'), 'image_url'] = gymnastics_url\n"
   ]
  },
  {
   "cell_type": "code",
   "execution_count": 110,
   "metadata": {},
   "outputs": [],
   "source": [
    "df.loc[df['description'].str.contains('스트레칭'), 'image_url'] = stretching_url"
   ]
  },
  {
   "cell_type": "code",
   "execution_count": 111,
   "metadata": {},
   "outputs": [],
   "source": [
    "df.loc[df['description'].str.contains('걷기|기초체력|기타체육|생활체육|체육'), 'image_url'] = walk_url"
   ]
  },
  {
   "cell_type": "code",
   "execution_count": 112,
   "metadata": {},
   "outputs": [],
   "source": [
    "df.loc[df['description'].str.contains('댄스'), 'image_url'] = dance_url\n",
    "df.loc[df['description'].str.contains('밴드'), 'image_url'] = band_url\n",
    "df.loc[df['description'].str.contains('복싱'), 'image_url'] = boxing_url\n",
    "df.loc[df['description'].str.contains('농구'), 'image_url'] = basketball_url\n",
    "df.loc[df['description'].str.contains('덤벨'), 'image_url'] = dumbbell_url\n",
    "df.loc[df['description'].str.contains('탁구'), 'image_url'] = tabletennis_url\n",
    "df.loc[df['description'].str.contains('배드민턴'), 'image_url'] = badminton_url\n",
    "df.loc[df['description'].str.contains('배구'), 'image_url'] = volleyball_url\n",
    "df.loc[df['description'].str.contains('족구'), 'image_url'] = footballtennis_url\n",
    "df.loc[df['description'].str.contains('에어로빅'), 'image_url'] = zumba_url\n",
    "df.loc[df['description'].str.contains('헬스'), 'image_url'] = fitness_url\n",
    "df.loc[df['description'].str.contains('보디'), 'image_url'] = body_url\n",
    "df.loc[df['description'].str.contains('웨이트'), 'image_url'] = weight_url\n",
    "df.loc[df['description'].str.contains('근력'), 'image_url'] = weight_url\n",
    "df.loc[df['description'].str.contains('요가'), 'image_url'] = yoga_url\n",
    "df.loc[df['description'].str.contains('필라테스'), 'image_url'] = pilates_url\n",
    "df.loc[df['description'].str.contains('특수체육'), 'image_url'] = special_url\n",
    "\n",
    "df.loc[df['description'].str.contains('뉴스포츠'), 'image_url'] = new_url\n"
   ]
  },
  {
   "cell_type": "code",
   "execution_count": 113,
   "metadata": {},
   "outputs": [
    {
     "data": {
      "text/html": [
       "<div>\n",
       "<style scoped>\n",
       "    .dataframe tbody tr th:only-of-type {\n",
       "        vertical-align: middle;\n",
       "    }\n",
       "\n",
       "    .dataframe tbody tr th {\n",
       "        vertical-align: top;\n",
       "    }\n",
       "\n",
       "    .dataframe thead th {\n",
       "        text-align: right;\n",
       "    }\n",
       "</style>\n",
       "<table border=\"1\" class=\"dataframe\">\n",
       "  <thead>\n",
       "    <tr style=\"text-align: right;\">\n",
       "      <th></th>\n",
       "      <th>Unnamed: 0</th>\n",
       "      <th>category_id</th>\n",
       "      <th>name</th>\n",
       "      <th>district</th>\n",
       "      <th>address</th>\n",
       "      <th>latitude</th>\n",
       "      <th>longitude</th>\n",
       "      <th>price</th>\n",
       "      <th>phone_number</th>\n",
       "      <th>image_url</th>\n",
       "      <th>page_url</th>\n",
       "      <th>description</th>\n",
       "      <th>장소</th>\n",
       "      <th>참가규모(명)</th>\n",
       "      <th>수혜기관명</th>\n",
       "      <th>기관 홈페이지</th>\n",
       "      <th>work_time</th>\n",
       "    </tr>\n",
       "  </thead>\n",
       "  <tbody>\n",
       "  </tbody>\n",
       "</table>\n",
       "</div>"
      ],
      "text/plain": [
       "Empty DataFrame\n",
       "Columns: [Unnamed: 0, category_id, name, district, address, latitude, longitude, price, phone_number, image_url, page_url, description, 장소, 참가규모(명), 수혜기관명, 기관 홈페이지, work_time]\n",
       "Index: []"
      ]
     },
     "execution_count": 113,
     "metadata": {},
     "output_type": "execute_result"
    }
   ],
   "source": [
    "df[df[\"image_url\"].isna()]"
   ]
  },
  {
   "cell_type": "code",
   "execution_count": 114,
   "metadata": {},
   "outputs": [],
   "source": [
    "# DataFrame을 CSV 파일로 저장 (인덱스 포함, utf-8 인코딩)\n",
    "df.to_csv(\"생활체육 카테고리 별 이미지.csv\", index=True, encoding='CP949')"
   ]
  },
  {
   "cell_type": "code",
   "execution_count": null,
   "metadata": {},
   "outputs": [],
   "source": []
  }
 ],
 "metadata": {
  "kernelspec": {
   "display_name": "base",
   "language": "python",
   "name": "python3"
  },
  "language_info": {
   "codemirror_mode": {
    "name": "ipython",
    "version": 3
   },
   "file_extension": ".py",
   "mimetype": "text/x-python",
   "name": "python",
   "nbconvert_exporter": "python",
   "pygments_lexer": "ipython3",
   "version": "3.10.9"
  }
 },
 "nbformat": 4,
 "nbformat_minor": 2
}
